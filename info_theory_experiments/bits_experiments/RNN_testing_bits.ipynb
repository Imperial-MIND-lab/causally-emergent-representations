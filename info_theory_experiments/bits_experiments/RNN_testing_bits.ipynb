{
 "cells": [
  {
   "cell_type": "markdown",
   "metadata": {},
   "source": [
    "# In this experiment we train an RNN on the bits dataset and show it does not learn the emergent bit"
   ]
  },
  {
   "cell_type": "code",
   "execution_count": 17,
   "metadata": {},
   "outputs": [],
   "source": [
    "import os\n",
    "import torch\n",
    "import torch.nn as nn\n",
    "import torch.optim as optim\n",
    "import wandb\n",
    "from info_theory_experiments.custom_datasets import BitStringDataset\n",
    "from torch.utils.data import DataLoader\n",
    "\n",
    "# Define the RNN model\n",
    "class SimpleRNN(nn.Module):\n",
    "    def __init__(self, input_size, hidden_size, output_size):\n",
    "        super(SimpleRNN, self).__init__()\n",
    "        self.hidden_size = hidden_size\n",
    "        self.rnn = nn.RNN(input_size, hidden_size, batch_first=True)\n",
    "        self.fc = nn.Linear(hidden_size, output_size)\n",
    "\n",
    "    def forward(self, x, hidden):\n",
    "        out, hidden = self.rnn(x, hidden)\n",
    "        out = self.fc(out[:, -1, :])  # Use the last time step's output\n",
    "        return out, hidden\n",
    "\n",
    "    def init_hidden(self, batch_size):\n",
    "        return torch.zeros(1, batch_size, self.hidden_size)\n",
    "\n",
    "# Training function\n",
    "def train_rnn(config, trainloader, model, criterion, optimizer, device):\n",
    "    model.train()\n",
    "    for epoch in range(config['epochs']):\n",
    "        for batch in trainloader:\n",
    "            inputs = batch[:, :-1, :].to(device)\n",
    "            targets = batch[:, -1, :].to(device)\n",
    "\n",
    "            hidden = model.init_hidden(inputs.size(0)).to(device)\n",
    "            optimizer.zero_grad()\n",
    "            outputs, hidden = model(inputs, hidden)\n",
    "            loss = criterion(outputs, targets)\n",
    "            loss.backward()\n",
    "            optimizer.step()\n",
    "\n",
    "            wandb.log({\"loss\": loss.item()})\n",
    "\n"
   ]
  },
  {
   "cell_type": "markdown",
   "metadata": {},
   "source": [
    "# train the RNN"
   ]
  },
  {
   "cell_type": "code",
   "execution_count": 22,
   "metadata": {},
   "outputs": [
    {
     "data": {
      "text/html": [
       "Finishing last run (ID:de7jo3tn) before initializing another..."
      ],
      "text/plain": [
       "<IPython.core.display.HTML object>"
      ]
     },
     "metadata": {},
     "output_type": "display_data"
    },
    {
     "data": {
      "text/html": [
       " View run <strong style=\"color:#cdcd00\">still-cosmos-17</strong> at: <a href='https://wandb.ai/dmcsharry/NEURIPS-predicting-next-time-step-from-emergent-rep/runs/de7jo3tn' target=\"_blank\">https://wandb.ai/dmcsharry/NEURIPS-predicting-next-time-step-from-emergent-rep/runs/de7jo3tn</a><br/> View project at: <a href='https://wandb.ai/dmcsharry/NEURIPS-predicting-next-time-step-from-emergent-rep' target=\"_blank\">https://wandb.ai/dmcsharry/NEURIPS-predicting-next-time-step-from-emergent-rep</a><br/>Synced 5 W&B file(s), 0 media file(s), 0 artifact file(s) and 0 other file(s)"
      ],
      "text/plain": [
       "<IPython.core.display.HTML object>"
      ]
     },
     "metadata": {},
     "output_type": "display_data"
    },
    {
     "data": {
      "text/html": [
       "Find logs at: <code>./wandb/run-20250129_160135-de7jo3tn/logs</code>"
      ],
      "text/plain": [
       "<IPython.core.display.HTML object>"
      ]
     },
     "metadata": {},
     "output_type": "display_data"
    },
    {
     "data": {
      "text/html": [
       "The new W&B backend becomes opt-out in version 0.18.0; try it out with `wandb.require(\"core\")`! See https://wandb.me/wandb-core for more information."
      ],
      "text/plain": [
       "<IPython.core.display.HTML object>"
      ]
     },
     "metadata": {},
     "output_type": "display_data"
    },
    {
     "data": {
      "text/html": [
       "Successfully finished last run (ID:de7jo3tn). Initializing new run:<br/>"
      ],
      "text/plain": [
       "<IPython.core.display.HTML object>"
      ]
     },
     "metadata": {},
     "output_type": "display_data"
    },
    {
     "data": {
      "text/html": [
       "wandb version 0.19.5 is available!  To upgrade, please run:\n",
       " $ pip install wandb --upgrade"
      ],
      "text/plain": [
       "<IPython.core.display.HTML object>"
      ]
     },
     "metadata": {},
     "output_type": "display_data"
    },
    {
     "data": {
      "text/html": [
       "Tracking run with wandb version 0.17.5"
      ],
      "text/plain": [
       "<IPython.core.display.HTML object>"
      ]
     },
     "metadata": {},
     "output_type": "display_data"
    },
    {
     "data": {
      "text/html": [
       "Run data is saved locally in <code>/Users/davidmcsharry/dev/causally-emergent-representations/info_theory_experiments/bits_experiments/wandb/run-20250129_160323-svi2df18</code>"
      ],
      "text/plain": [
       "<IPython.core.display.HTML object>"
      ]
     },
     "metadata": {},
     "output_type": "display_data"
    },
    {
     "data": {
      "text/html": [
       "Syncing run <strong><a href='https://wandb.ai/dmcsharry/RNN_BitStringDataset/runs/svi2df18' target=\"_blank\">run_1</a></strong> to <a href='https://wandb.ai/dmcsharry/RNN_BitStringDataset' target=\"_blank\">Weights & Biases</a> (<a href='https://wandb.me/run' target=\"_blank\">docs</a>)<br/>"
      ],
      "text/plain": [
       "<IPython.core.display.HTML object>"
      ]
     },
     "metadata": {},
     "output_type": "display_data"
    },
    {
     "data": {
      "text/html": [
       " View project at <a href='https://wandb.ai/dmcsharry/RNN_BitStringDataset' target=\"_blank\">https://wandb.ai/dmcsharry/RNN_BitStringDataset</a>"
      ],
      "text/plain": [
       "<IPython.core.display.HTML object>"
      ]
     },
     "metadata": {},
     "output_type": "display_data"
    },
    {
     "data": {
      "text/html": [
       " View run at <a href='https://wandb.ai/dmcsharry/RNN_BitStringDataset/runs/svi2df18' target=\"_blank\">https://wandb.ai/dmcsharry/RNN_BitStringDataset/runs/svi2df18</a>"
      ],
      "text/plain": [
       "<IPython.core.display.HTML object>"
      ]
     },
     "metadata": {},
     "output_type": "display_data"
    },
    {
     "data": {
      "text/html": [
       "<style>\n",
       "    table.wandb td:nth-child(1) { padding: 0 10px; text-align: left ; width: auto;} td:nth-child(2) {text-align: left ; width: 100%}\n",
       "    .wandb-row { display: flex; flex-direction: row; flex-wrap: wrap; justify-content: flex-start; width: 100% }\n",
       "    .wandb-col { display: flex; flex-direction: column; flex-basis: 100%; flex: 1; padding: 10px; }\n",
       "    </style>\n",
       "<div class=\"wandb-row\"><div class=\"wandb-col\"><h3>Run history:</h3><br/><table class=\"wandb\"><tr><td>loss</td><td>█▂▁▁▁▁▁▁▁▁▁▁▁▁▁▁▁▁▁▁▁▁▁▁▁▁▁▁▁▁▁▁▁▁▁▁▁▁▁▁</td></tr></table><br/></div><div class=\"wandb-col\"><h3>Run summary:</h3><br/><table class=\"wandb\"><tr><td>loss</td><td>0.24474</td></tr></table><br/></div></div>"
      ],
      "text/plain": [
       "<IPython.core.display.HTML object>"
      ]
     },
     "metadata": {},
     "output_type": "display_data"
    },
    {
     "data": {
      "text/html": [
       " View run <strong style=\"color:#cdcd00\">run_1</strong> at: <a href='https://wandb.ai/dmcsharry/RNN_BitStringDataset/runs/svi2df18' target=\"_blank\">https://wandb.ai/dmcsharry/RNN_BitStringDataset/runs/svi2df18</a><br/> View project at: <a href='https://wandb.ai/dmcsharry/RNN_BitStringDataset' target=\"_blank\">https://wandb.ai/dmcsharry/RNN_BitStringDataset</a><br/>Synced 4 W&B file(s), 0 media file(s), 0 artifact file(s) and 0 other file(s)"
      ],
      "text/plain": [
       "<IPython.core.display.HTML object>"
      ]
     },
     "metadata": {},
     "output_type": "display_data"
    },
    {
     "data": {
      "text/html": [
       "Find logs at: <code>./wandb/run-20250129_160323-svi2df18/logs</code>"
      ],
      "text/plain": [
       "<IPython.core.display.HTML object>"
      ]
     },
     "metadata": {},
     "output_type": "display_data"
    },
    {
     "data": {
      "text/html": [
       "The new W&B backend becomes opt-out in version 0.18.0; try it out with `wandb.require(\"core\")`! See https://wandb.me/wandb-core for more information."
      ],
      "text/plain": [
       "<IPython.core.display.HTML object>"
      ]
     },
     "metadata": {},
     "output_type": "display_data"
    }
   ],
   "source": [
    "# Main script\n",
    "def main():\n",
    "    # Configuration\n",
    "    config = {\n",
    "        'epochs': 5,\n",
    "        'batch_size': 32,\n",
    "        'learning_rate': 0.001,\n",
    "        'input_size': 6,\n",
    "        'hidden_size': 1,\n",
    "        'output_size': 6,\n",
    "        'gamma_parity': 0.9,\n",
    "        'gamma_extra': 0.9,\n",
    "        'length': 100000,\n",
    "        'num_runs': 1\n",
    "    }\n",
    "\n",
    "    device = torch.device(\"cuda\" if torch.cuda.is_available() else \"cpu\")\n",
    "\n",
    "    # Create directory for saving models\n",
    "    os.makedirs('RNNs', exist_ok=True)\n",
    "\n",
    "    for run in range(config['num_runs']):\n",
    "        wandb.init(project=\"RNN_BitStringDataset\", config=config, name=f\"run_{run+1}\")\n",
    "\n",
    "        # Dataset and DataLoader\n",
    "        dataset = BitStringDataset(config['gamma_parity'], config['gamma_extra'], config['length'])\n",
    "        trainloader = DataLoader(dataset, batch_size=config['batch_size'], shuffle=True)\n",
    "\n",
    "        # Model, criterion, and optimizer\n",
    "        model = SimpleRNN(config['input_size'], config['hidden_size'], config['output_size']).to(device)\n",
    "        criterion = nn.MSELoss()\n",
    "        optimizer = optim.Adam(model.parameters(), lr=config['learning_rate'])\n",
    "\n",
    "        # Train the model\n",
    "        train_rnn(config, trainloader, model, criterion, optimizer, device)\n",
    "\n",
    "        # Save the model\n",
    "        torch.save(model.state_dict(), f\"RNNs/rnn_model_run_{run+1}.pth\")\n",
    "\n",
    "        wandb.finish()\n",
    "\n",
    "\n",
    "###\n",
    "\n",
    "main()\n"
   ]
  },
  {
   "cell_type": "code",
   "execution_count": 23,
   "metadata": {},
   "outputs": [],
   "source": [
    "import torch\n",
    "device = torch.device(\"cuda\" if torch.cuda.is_available() else \"cpu\")\n",
    "# change this to your own RNN model path\n",
    "\n",
    "def get_RNN_hiden_state_rep(input_batch):\n",
    "    \"\"\"\n",
    "    Function to get the hidden state representation of an RNN model with path below\n",
    "    \"\"\"\n",
    "    model_path = 'RNNs/rnn_model_run_1.pth' # model path should probably be an input, edit this for a different RNN\n",
    "    # Load the model\n",
    "    input_size = 6\n",
    "    hidden_size = 1\n",
    "    output_size = 6\n",
    "    model = SimpleRNN(input_size, hidden_size, output_size).to(device)\n",
    "    model.load_state_dict(torch.load(model_path, map_location=device))\n",
    "    model.eval()\n",
    "\n",
    "    # Initialize hidden state\n",
    "    batch_size = input_batch.size(0)\n",
    "    hidden = torch.zeros(1, batch_size, hidden_size).to(device)\n",
    "\n",
    "    # Convert input batch to tensor if not already\n",
    "    input_batch = torch.tensor(input_batch, dtype=torch.float32).to(device)\n",
    "\n",
    "    # Forward pass through the model\n",
    "    with torch.no_grad():\n",
    "        _, hidden = model(input_batch.unsqueeze(1), hidden)\n",
    "\n",
    "    output = hidden.squeeze(0).to(device)\n",
    "\n",
    "    assert output.size() == (batch_size, hidden_size), output.size()\n",
    "\n",
    "    return hidden.to(device)\n"
   ]
  },
  {
   "cell_type": "markdown",
   "metadata": {},
   "source": [
    "# testing reps predictive power\n",
    "\n",
    "to switch between which rep you are using change the two comments at wanbdb.inti and hidden state\n",
    "\n",
    "you can choose which rep model to use from models folder"
   ]
  },
  {
   "cell_type": "code",
   "execution_count": 24,
   "metadata": {},
   "outputs": [
    {
     "data": {
      "text/html": [
       "wandb version 0.19.5 is available!  To upgrade, please run:\n",
       " $ pip install wandb --upgrade"
      ],
      "text/plain": [
       "<IPython.core.display.HTML object>"
      ]
     },
     "metadata": {},
     "output_type": "display_data"
    },
    {
     "data": {
      "text/html": [
       "Tracking run with wandb version 0.17.5"
      ],
      "text/plain": [
       "<IPython.core.display.HTML object>"
      ]
     },
     "metadata": {},
     "output_type": "display_data"
    },
    {
     "data": {
      "text/html": [
       "Run data is saved locally in <code>/Users/davidmcsharry/dev/causally-emergent-representations/info_theory_experiments/bits_experiments/wandb/run-20250129_160348-pd1cbtb5</code>"
      ],
      "text/plain": [
       "<IPython.core.display.HTML object>"
      ]
     },
     "metadata": {},
     "output_type": "display_data"
    },
    {
     "data": {
      "text/html": [
       "Syncing run <strong><a href='https://wandb.ai/dmcsharry/NEURIPS-predicting-next-time-step-from-emergent-rep/runs/pd1cbtb5' target=\"_blank\">charmed-field-18</a></strong> to <a href='https://wandb.ai/dmcsharry/NEURIPS-predicting-next-time-step-from-emergent-rep' target=\"_blank\">Weights & Biases</a> (<a href='https://wandb.me/run' target=\"_blank\">docs</a>)<br/>"
      ],
      "text/plain": [
       "<IPython.core.display.HTML object>"
      ]
     },
     "metadata": {},
     "output_type": "display_data"
    },
    {
     "data": {
      "text/html": [
       " View project at <a href='https://wandb.ai/dmcsharry/NEURIPS-predicting-next-time-step-from-emergent-rep' target=\"_blank\">https://wandb.ai/dmcsharry/NEURIPS-predicting-next-time-step-from-emergent-rep</a>"
      ],
      "text/plain": [
       "<IPython.core.display.HTML object>"
      ]
     },
     "metadata": {},
     "output_type": "display_data"
    },
    {
     "data": {
      "text/html": [
       " View run at <a href='https://wandb.ai/dmcsharry/NEURIPS-predicting-next-time-step-from-emergent-rep/runs/pd1cbtb5' target=\"_blank\">https://wandb.ai/dmcsharry/NEURIPS-predicting-next-time-step-from-emergent-rep/runs/pd1cbtb5</a>"
      ],
      "text/plain": [
       "<IPython.core.display.HTML object>"
      ]
     },
     "metadata": {},
     "output_type": "display_data"
    },
    {
     "name": "stderr",
     "output_type": "stream",
     "text": [
      "/var/folders/2t/dndyl3cd5f19fbzp23060ht00000gn/T/ipykernel_72601/1483588441.py:15: FutureWarning: You are using `torch.load` with `weights_only=False` (the current default value), which uses the default pickle module implicitly. It is possible to construct malicious pickle data which will execute arbitrary code during unpickling (See https://github.com/pytorch/pytorch/blob/main/SECURITY.md#untrusted-models for more details). In a future release, the default value for `weights_only` will be flipped to `True`. This limits the functions that could be executed during unpickling. Arbitrary objects will no longer be allowed to be loaded via this mode unless they are explicitly allowlisted by the user via `torch.serialization.add_safe_globals`. We recommend you start setting `weights_only=True` for any use case where you don't have full control of the loaded file. Please open an issue on GitHub for any issues related to this experimental feature.\n",
      "  model.load_state_dict(torch.load(model_path, map_location=device))\n",
      "/var/folders/2t/dndyl3cd5f19fbzp23060ht00000gn/T/ipykernel_72601/1483588441.py:23: UserWarning: To copy construct from a tensor, it is recommended to use sourceTensor.clone().detach() or sourceTensor.clone().detach().requires_grad_(True), rather than torch.tensor(sourceTensor).\n",
      "  input_batch = torch.tensor(input_batch, dtype=torch.float32).to(device)\n",
      "/Users/davidmcsharry/dev/causally-emergent-representations/venv/lib/python3.10/site-packages/torch/nn/modules/loss.py:538: UserWarning: Using a target size (torch.Size([1000, 6])) that is different to the input size (torch.Size([1, 1000, 6])). This will likely lead to incorrect results due to broadcasting. Please ensure they have the same size.\n",
      "  return F.mse_loss(input, target, reduction=self.reduction)\n",
      "/Users/davidmcsharry/dev/causally-emergent-representations/venv/lib/python3.10/site-packages/torch/nn/modules/loss.py:538: UserWarning: Using a target size (torch.Size([999, 6])) that is different to the input size (torch.Size([1, 999, 6])). This will likely lead to incorrect results due to broadcasting. Please ensure they have the same size.\n",
      "  return F.mse_loss(input, target, reduction=self.reduction)\n"
     ]
    },
    {
     "name": "stdout",
     "output_type": "stream",
     "text": [
      "Epoch 1/10, Loss: 0.21030686795711517\n",
      "Epoch 2/10, Loss: 0.21046586334705353\n",
      "Epoch 3/10, Loss: 0.21048860251903534\n",
      "Epoch 4/10, Loss: 0.21041585505008698\n",
      "Epoch 5/10, Loss: 0.21041055023670197\n",
      "Epoch 6/10, Loss: 0.2103809118270874\n",
      "Epoch 7/10, Loss: 0.21038936078548431\n",
      "Epoch 8/10, Loss: 0.21040891110897064\n",
      "Epoch 9/10, Loss: 0.2104358822107315\n",
      "Epoch 10/10, Loss: 0.2104797661304474\n"
     ]
    },
    {
     "data": {
      "text/html": [
       "<style>\n",
       "    table.wandb td:nth-child(1) { padding: 0 10px; text-align: left ; width: auto;} td:nth-child(2) {text-align: left ; width: 100%}\n",
       "    .wandb-row { display: flex; flex-direction: row; flex-wrap: wrap; justify-content: flex-start; width: 100% }\n",
       "    .wandb-col { display: flex; flex-direction: column; flex-basis: 100%; flex: 1; padding: 10px; }\n",
       "    </style>\n",
       "<div class=\"wandb-row\"><div class=\"wandb-col\"><h3>Run history:</h3><br/><table class=\"wandb\"><tr><td>mlp_loss</td><td>██▁▁▁▁▂▁▁▁▁▁▁▁▁▁▁▁▁▁▁▁▁▁▁▁▁▁▁▁▁▁▁▁▁▁▁▁▁▁</td></tr></table><br/></div><div class=\"wandb-col\"><h3>Run summary:</h3><br/><table class=\"wandb\"><tr><td>mlp_loss</td><td>0.21048</td></tr></table><br/></div></div>"
      ],
      "text/plain": [
       "<IPython.core.display.HTML object>"
      ]
     },
     "metadata": {},
     "output_type": "display_data"
    },
    {
     "data": {
      "text/html": [
       " View run <strong style=\"color:#cdcd00\">charmed-field-18</strong> at: <a href='https://wandb.ai/dmcsharry/NEURIPS-predicting-next-time-step-from-emergent-rep/runs/pd1cbtb5' target=\"_blank\">https://wandb.ai/dmcsharry/NEURIPS-predicting-next-time-step-from-emergent-rep/runs/pd1cbtb5</a><br/> View project at: <a href='https://wandb.ai/dmcsharry/NEURIPS-predicting-next-time-step-from-emergent-rep' target=\"_blank\">https://wandb.ai/dmcsharry/NEURIPS-predicting-next-time-step-from-emergent-rep</a><br/>Synced 5 W&B file(s), 0 media file(s), 0 artifact file(s) and 0 other file(s)"
      ],
      "text/plain": [
       "<IPython.core.display.HTML object>"
      ]
     },
     "metadata": {},
     "output_type": "display_data"
    },
    {
     "data": {
      "text/html": [
       "Find logs at: <code>./wandb/run-20250129_160348-pd1cbtb5/logs</code>"
      ],
      "text/plain": [
       "<IPython.core.display.HTML object>"
      ]
     },
     "metadata": {},
     "output_type": "display_data"
    },
    {
     "data": {
      "text/html": [
       "The new W&B backend becomes opt-out in version 0.18.0; try it out with `wandb.require(\"core\")`! See https://wandb.me/wandb-core for more information."
      ],
      "text/plain": [
       "<IPython.core.display.HTML object>"
      ]
     },
     "metadata": {},
     "output_type": "display_data"
    }
   ],
   "source": [
    "\n",
    "device = torch.device(\"cuda\" if torch.cuda.is_available() else \"cpu\")\n",
    "import wandb\n",
    "\n",
    "# Initialize wandb client\n",
    "wandb.init(project='NEURIPS-predicting-next-time-step-from-emergent-rep')  #\"NEURIPS-predicting-next-time-step-from-hidden-state-RNN\")\n",
    "\n",
    "import torch\n",
    "import torch.nn as nn\n",
    "from torch.utils.data import DataLoader\n",
    "from info_theory_experiments.custom_datasets import BitStringDataset\n",
    "\n",
    "# Load bits dataset\n",
    "dataset_test = BitStringDataset(\n",
    "    gamma_parity=0.99,\n",
    "    gamma_extra=0.99,\n",
    "    length=1000000\n",
    ")\n",
    "\n",
    "dataloader = DataLoader(dataset_test, batch_size=1000, shuffle=False)\n",
    "\n",
    "from info_theory_experiments.models import SkipConnectionSupervenientFeatureNetwork\n",
    "\n",
    "representation_netork = SkipConnectionSupervenientFeatureNetwork(\n",
    "    num_atoms=6,\n",
    "    feature_size=1,\n",
    "    hidden_sizes=[256, 256]\n",
    ").to(device)\n",
    "\n",
    "# Define a simple MLP for prediction\n",
    "class MLP(nn.Module):\n",
    "    def __init__(self, input_size, hidden_sizes, output_size):\n",
    "        super(MLP, self).__init__()\n",
    "        layers = []\n",
    "        current_size = input_size\n",
    "        for hidden_size in hidden_sizes:\n",
    "            layers.append(nn.Linear(current_size, hidden_size))\n",
    "            layers.append(nn.ReLU())\n",
    "            current_size = hidden_size\n",
    "        layers.append(nn.Linear(current_size, output_size))\n",
    "        self.network = nn.Sequential(*layers)\n",
    "\n",
    "    def forward(self, x):\n",
    "        return self.network(x)\n",
    "\n",
    "# Initialize the MLP\n",
    "input_size = 1\n",
    "hidden_sizes = [256, 512, 1024, 1024, 512, 256]\n",
    "output_size = 6\n",
    "mlp = MLP(input_size, hidden_sizes, output_size).to(device)\n",
    "\n",
    "# Define optimizer and loss function\n",
    "mlp_optimizer = torch.optim.Adam(\n",
    "    mlp.parameters(),\n",
    "    lr=1e-4,\n",
    "    weight_decay=0.00001\n",
    ")\n",
    "loss_fn = nn.MSELoss()\n",
    "\n",
    "# Training loop for the MLP\n",
    "epochs = 10\n",
    "for epoch in range(epochs):\n",
    "    for batch_num, batch in enumerate(dataloader):\n",
    "        x_t = batch[:, 0].to(device).float()\n",
    "        x_t_plus_1 = batch[:, 1].to(device).float()\n",
    "        \n",
    "        # Get hidden state representation\n",
    "        hidden_state = get_RNN_hiden_state_rep(x_t).detach()\n",
    "        \n",
    "        # Predict x_t+1 using the MLP\n",
    "        mlp_optimizer.zero_grad()\n",
    "        x_t_plus_1_pred = mlp(hidden_state)\n",
    "        \n",
    "        # Compute loss and backpropagate\n",
    "        loss = loss_fn(x_t_plus_1_pred, x_t_plus_1)\n",
    "        loss.backward()\n",
    "        mlp_optimizer.step()\n",
    "        \n",
    "        # Log the loss\n",
    "        wandb.log({\"mlp_loss\": loss.item()}, step=epoch * len(dataloader) + batch_num)\n",
    "\n",
    "    print(f\"Epoch {epoch + 1}/{epochs}, Loss: {loss.item()}\")\n",
    "\n",
    "wandb.finish()\n"
   ]
  },
  {
   "cell_type": "code",
   "execution_count": 6,
   "metadata": {},
   "outputs": [
    {
     "name": "stderr",
     "output_type": "stream",
     "text": [
      "/tmp/ipykernel_249498/140010242.py:60: FutureWarning: You are using `torch.load` with `weights_only=False` (the current default value), which uses the default pickle module implicitly. It is possible to construct malicious pickle data which will execute arbitrary code during unpickling (See https://github.com/pytorch/pytorch/blob/main/SECURITY.md#untrusted-models for more details). In a future release, the default value for `weights_only` will be flipped to `True`. This limits the functions that could be executed during unpickling. Arbitrary objects will no longer be allowed to be loaded via this mode unless they are explicitly allowlisted by the user via `torch.serialization.add_safe_globals`. We recommend you start setting `weights_only=True` for any use case where you don't have full control of the loaded file. Please open an issue on GitHub for any issues related to this experimental feature.\n",
      "  model.load_state_dict(torch.load(\"models/emergent_feature_network-jolly-sea-16.pth\"))\n"
     ]
    },
    {
     "name": "stdout",
     "output_type": "stream",
     "text": [
      "torch.Size([99999, 2, 6])\n",
      "MI: 0.8779662847518921\n",
      "MI: 1.8352651596069336\n",
      "MI: 1.8177181482315063\n",
      "MI: 1.846044898033142\n",
      "MI: 1.7928447723388672\n"
     ]
    }
   ],
   "source": [
    "from models import GeneralSmileMIEstimator\n",
    "from custom_datasets import BitStringDataset\n",
    "from torch.utils.data import DataLoader\n",
    "import torch\n",
    "import torch.nn as nn\n",
    "from models import SkipConnectionSupervenientFeatureNetwork\n",
    "\n",
    "class SimpleRNN(nn.Module):\n",
    "    def __init__(self, input_size, hidden_size, output_size):\n",
    "        super(SimpleRNN, self).__init__()\n",
    "        self.hidden_size = hidden_size\n",
    "        self.rnn = nn.RNN(input_size, hidden_size, batch_first=True)\n",
    "        self.fc = nn.Linear(hidden_size, output_size)\n",
    "\n",
    "    def forward(self, x, hidden):\n",
    "        out, hidden = self.rnn(x, hidden)\n",
    "        out = self.fc(out[:, -1, :])  # Use the last time step's output\n",
    "        return out, hidden\n",
    "\n",
    "    def init_hidden(self, batch_size):\n",
    "        return torch.zeros(1, batch_size, self.hidden_size).to('cuda')\n",
    "\n",
    "device = 'cuda'\n",
    "\n",
    "def get_RNN_hiden_state_rep(input_batch):\n",
    "    # Load the model\n",
    "    model_path = 'RNNs/rnn_model_run_4.pth'\n",
    "    input_size = 6\n",
    "    hidden_size = 1\n",
    "    output_size = 6\n",
    "    model = SimpleRNN(input_size, hidden_size, output_size).to('cuda')\n",
    "    model.load_state_dict(torch.load(model_path, map_location='cuda'))\n",
    "    model.eval()\n",
    "\n",
    "    # Initialize hidden state\n",
    "    batch_size = input_batch.size(0)\n",
    "    hidden = torch.zeros(1, batch_size, hidden_size).to('cuda')\n",
    "\n",
    "    # Convert input batch to tensor if not already\n",
    "    input_batch = torch.tensor(input_batch, dtype=torch.float32).to('cuda')\n",
    "\n",
    "    # Forward pass through the model\n",
    "    with torch.no_grad():\n",
    "        _, hidden = model(input_batch.unsqueeze(1).to('cuda'), hidden)\n",
    "\n",
    "    output = hidden.squeeze(0).to('cuda')\n",
    "\n",
    "    assert output.size() == (batch_size, hidden_size), output.size()\n",
    "\n",
    "    return hidden.to('cuda')\n",
    "\n",
    "\n",
    "model = SkipConnectionSupervenientFeatureNetwork(\n",
    "    num_atoms=6,\n",
    "    feature_size=1,\n",
    "    hidden_sizes=[256, 256],\n",
    "    include_bias=True\n",
    ").to(device)\n",
    "\n",
    "model.load_state_dict(torch.load(\"models/emergent_feature_network-jolly-sea-16.pth\"))\n",
    "\n",
    "\n",
    "bits_dataset = BitStringDataset(\n",
    "    gamma_parity=0.99,\n",
    "    gamma_extra=0.99,\n",
    "    length=100000\n",
    ")\n",
    "\n",
    "dataloader = DataLoader(bits_dataset, batch_size=1000, shuffle=True)\n",
    "\n",
    "print(bits_dataset.data.size())\n",
    "\n",
    "mi_estimator = GeneralSmileMIEstimator(\n",
    "    x_dim=2,\n",
    "    y_dim=6,\n",
    "    critic_output_size=8,\n",
    "    x_critics_hidden_sizes=[256,512, 512, 256],\n",
    "    y_critics_hidden_sizes=[256,512, 512, 256],\n",
    "    clip=5,\n",
    "    include_bias=True,\n",
    ").to('cuda')\n",
    "\n",
    "optim = torch.optim.Adam(mi_estimator.parameters(), lr=1e-3)\n",
    "\n",
    "\n"
   ]
  },
  {
   "cell_type": "code",
   "execution_count": 11,
   "metadata": {},
   "outputs": [
    {
     "name": "stderr",
     "output_type": "stream",
     "text": [
      "/tmp/ipykernel_249498/140010242.py:32: FutureWarning: You are using `torch.load` with `weights_only=False` (the current default value), which uses the default pickle module implicitly. It is possible to construct malicious pickle data which will execute arbitrary code during unpickling (See https://github.com/pytorch/pytorch/blob/main/SECURITY.md#untrusted-models for more details). In a future release, the default value for `weights_only` will be flipped to `True`. This limits the functions that could be executed during unpickling. Arbitrary objects will no longer be allowed to be loaded via this mode unless they are explicitly allowlisted by the user via `torch.serialization.add_safe_globals`. We recommend you start setting `weights_only=True` for any use case where you don't have full control of the loaded file. Please open an issue on GitHub for any issues related to this experimental feature.\n",
      "  model.load_state_dict(torch.load(model_path, map_location='cuda'))\n",
      "/tmp/ipykernel_249498/140010242.py:40: UserWarning: To copy construct from a tensor, it is recommended to use sourceTensor.clone().detach() or sourceTensor.clone().detach().requires_grad_(True), rather than torch.tensor(sourceTensor).\n",
      "  input_batch = torch.tensor(input_batch, dtype=torch.float32).to('cuda')\n"
     ]
    },
    {
     "name": "stdout",
     "output_type": "stream",
     "text": [
      "MI: 1.802267074584961\n",
      "MI: 1.8062381744384766\n",
      "MI: 1.8205976486206055\n",
      "MI: 1.8456114530563354\n",
      "MI: 1.8380610942840576\n"
     ]
    }
   ],
   "source": [
    "for seed in range(7,12):\n",
    "    for epoch in range(6):\n",
    "        for batch in dataloader:\n",
    "            torch.manual_seed(seed)\n",
    "            x_t = batch[:, 0].to(device).float()\n",
    "            x_t_plus_1 = batch[:, 1].to(device).float()\n",
    "\n",
    "            x_t_rep1 = get_RNN_hiden_state_rep(x_t).detach().to('cuda').squeeze(0)\n",
    "            x_t_rep2 = model(x_t).detach().to('cuda').squeeze(0)\n",
    "\n",
    "            # x_t_rep1 = x_t[:, :5].sum(dim=1) % 2\n",
    "            # x_t_rep2 = x_t[:, -1]\n",
    "\n",
    "            rep = torch.cat([x_t_rep1.unsqueeze(1), x_t_rep2.unsqueeze(1)], dim=1).squeeze(-1)\n",
    "            optim.zero_grad()\n",
    "\n",
    "            MI = mi_estimator(rep, x_t_plus_1).to('cuda')\n",
    "\n",
    "            loss = - MI\n",
    "\n",
    "            loss.backward()\n",
    "            optim.step()\n",
    "\n",
    "    print(\"MI:\", MI.item())\n"
   ]
  },
  {
   "cell_type": "code",
   "execution_count": null,
   "metadata": {},
   "outputs": [],
   "source": []
  },
  {
   "cell_type": "code",
   "execution_count": null,
   "metadata": {},
   "outputs": [],
   "source": []
  },
  {
   "cell_type": "code",
   "execution_count": null,
   "metadata": {},
   "outputs": [],
   "source": []
  }
 ],
 "metadata": {
  "kernelspec": {
   "display_name": "venv",
   "language": "python",
   "name": "python3"
  },
  "language_info": {
   "codemirror_mode": {
    "name": "ipython",
    "version": 3
   },
   "file_extension": ".py",
   "mimetype": "text/x-python",
   "name": "python",
   "nbconvert_exporter": "python",
   "pygments_lexer": "ipython3",
   "version": "3.10.7"
  }
 },
 "nbformat": 4,
 "nbformat_minor": 2
}
